{
 "cells": [
  {
   "cell_type": "code",
   "execution_count": 56,
   "metadata": {},
   "outputs": [
    {
     "name": "stdout",
     "output_type": "stream",
     "text": [
      "['/media/editor/スクリーンショット 2022-07-24 18.32.03_20220727222059513768.png', '/media/editor/スクリーンショット 2022-07-24 18.32.03_20220727222059513768.png']\n"
     ]
    }
   ],
   "source": [
    "import re\n",
    "path = \"\\### きっかけこの本を読んだきっかけは神経科学に興味があったからである。私は以前から機械学習関連に興味があり、ニューラルネットワークを改善するためにも、そして将来強いAIを作るためにも、より生物学的なアプローチが必要だと考えていた。![](/media/editor/スクリーンショット 2022-07-24 18.32.03_20220727222059513768.png)### この本はおすすめか？分野ごと神経科学の発展の歴史が分かったし、全体像を理解することができたとても良い本だと思う。ただちょっと想像していたものと違う部分もあった。この本は神経科学を学ぶ上、入門書と専門書の中間にあると作者は言っている。![](/media/editor/スクリーンショット 2022-07-24 18.32.03_20220727222059513768.png)そして医学、生物学寄りのものが多い神経科学の本の中で、数少ない工学的なアプローチに着目したものである。そういう面でも間違いなく現段階で最適な本である。また、生物学や工学に多少知識があればいきなりこの本を読んでも良いと思う、但し一回で全てを理解するのは難しい。\"\n",
    "m = re.findall(r'(/media/editor/.*?\\.png|jpg)',path)\n",
    "print(m)"
   ]
  },
  {
   "cell_type": "code",
   "execution_count": 53,
   "metadata": {},
   "outputs": [
    {
     "name": "stdout",
     "output_type": "stream",
     "text": [
      "/media/editor/スクリーンショット 2022-07-24 18.32.03_20220727222059513768.png\n"
     ]
    }
   ],
   "source": [
    "path ='(/media/editor/スクリーンショット 2022-07-24 18.32.03_20220727222059513768.png)'\n",
    "m = re.search(r'(/media/editor/.*?\\.png|jpg)',path)\n",
    "print(m[0])"
   ]
  },
  {
   "cell_type": "code",
   "execution_count": 1,
   "metadata": {},
   "outputs": [],
   "source": [
    "import cloudinary\n",
    "cloudinary.config( \n",
    "  cloud_name = \"hpeqmnspv\", \n",
    "  api_key = \"739416666445432\", \n",
    "  api_secret = \"nNNWoDv4uwTmAEudxaUXsRIVHEE\",\n",
    "  secure = True\n",
    ")\n",
    "\n",
    "import cloudinary.uploader\n",
    "import cloudinary.api\n"
   ]
  },
  {
   "cell_type": "code",
   "execution_count": 2,
   "metadata": {},
   "outputs": [
    {
     "data": {
      "text/plain": [
       "{'asset_id': '77e766d61920a54b80c39ab63bc693f8',\n",
       " 'public_id': 'jrhrcijz5tyox72phodf',\n",
       " 'version': 1662171026,\n",
       " 'version_id': '5f9763e1f562247f1930fdc0e270f813',\n",
       " 'signature': 'bdbdcab77cc32c570050f0d930a96ad2b16cbdaf',\n",
       " 'width': 1500,\n",
       " 'height': 600,\n",
       " 'format': 'png',\n",
       " 'resource_type': 'image',\n",
       " 'created_at': '2022-09-03T02:10:26Z',\n",
       " 'tags': [],\n",
       " 'bytes': 1454426,\n",
       " 'type': 'upload',\n",
       " 'etag': 'a5a93cb6f676cce9f5d382d1f29d94d7',\n",
       " 'placeholder': False,\n",
       " 'url': 'http://res.cloudinary.com/hpeqmnspv/image/upload/v1662171026/jrhrcijz5tyox72phodf.png',\n",
       " 'secure_url': 'https://res.cloudinary.com/hpeqmnspv/image/upload/v1662171026/jrhrcijz5tyox72phodf.png',\n",
       " 'folder': '',\n",
       " 'original_filename': 'top',\n",
       " 'api_key': '739416666445432'}"
      ]
     },
     "execution_count": 2,
     "metadata": {},
     "output_type": "execute_result"
    }
   ],
   "source": [
    "cloudinary.uploader.upload(\"posts/static/images/top.png\")\n"
   ]
  },
  {
   "cell_type": "code",
   "execution_count": null,
   "metadata": {},
   "outputs": [],
   "source": []
  }
 ],
 "metadata": {
  "kernelspec": {
   "display_name": "Python 3.9.10 ('test')",
   "language": "python",
   "name": "python3"
  },
  "language_info": {
   "codemirror_mode": {
    "name": "ipython",
    "version": 3
   },
   "file_extension": ".py",
   "mimetype": "text/x-python",
   "name": "python",
   "nbconvert_exporter": "python",
   "pygments_lexer": "ipython3",
   "version": "3.9.10"
  },
  "orig_nbformat": 4,
  "vscode": {
   "interpreter": {
    "hash": "b93ae23b7538ee79e0a59fe55b5ee8bd008f440c137634b5a5f8ec66d56efcc5"
   }
  }
 },
 "nbformat": 4,
 "nbformat_minor": 2
}
