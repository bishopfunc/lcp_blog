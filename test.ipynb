{
 "cells": [
  {
   "cell_type": "code",
   "execution_count": 10,
   "metadata": {},
   "outputs": [
    {
     "data": {
      "text/plain": [
       "'roomajisuragutesuto'"
      ]
     },
     "execution_count": 10,
     "metadata": {},
     "output_type": "execute_result"
    }
   ],
   "source": [
    "import pykakasi\n",
    "kks = pykakasi.kakasi()\n",
    "title = 'ローマ字スラグテスト'\n",
    "kks_dict = kks.convert(title)\n",
    "r_title = ''\n",
    "for kks in kks_dict:\n",
    "    r_title += kks['passport']\n",
    "r_title"
   ]
  },
  {
   "cell_type": "code",
   "execution_count": null,
   "metadata": {},
   "outputs": [],
   "source": []
  }
 ],
 "metadata": {
  "kernelspec": {
   "display_name": "Python 3.9.10 ('test')",
   "language": "python",
   "name": "python3"
  },
  "language_info": {
   "codemirror_mode": {
    "name": "ipython",
    "version": 3
   },
   "file_extension": ".py",
   "mimetype": "text/x-python",
   "name": "python",
   "nbconvert_exporter": "python",
   "pygments_lexer": "ipython3",
   "version": "3.9.10"
  },
  "orig_nbformat": 4,
  "vscode": {
   "interpreter": {
    "hash": "b93ae23b7538ee79e0a59fe55b5ee8bd008f440c137634b5a5f8ec66d56efcc5"
   }
  }
 },
 "nbformat": 4,
 "nbformat_minor": 2
}
